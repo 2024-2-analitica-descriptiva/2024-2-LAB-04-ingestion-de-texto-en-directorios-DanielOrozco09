{
 "cells": [
  {
   "cell_type": "code",
   "execution_count": 4,
   "metadata": {},
   "outputs": [
    {
     "name": "stdout",
     "output_type": "stream",
     "text": [
      "Los DataFrames se han exportado a archivos CSV: 'train_data.csv' y 'test_data.csv'.\n"
     ]
    }
   ],
   "source": [
    "import os\n",
    "import pandas as pd\n",
    "\n",
    "def create_dataframe_from_directory(directory):\n",
    "    data = []\n",
    "    for sentiment in ['negative', 'neutral', 'positive']:\n",
    "        sentiment_dir = os.path.join(directory, sentiment)\n",
    "        if os.path.exists(sentiment_dir):\n",
    "            for filename in os.listdir(sentiment_dir):\n",
    "                filepath = os.path.join(sentiment_dir, filename)\n",
    "                with open(filepath, 'r', encoding='utf-8') as file:\n",
    "                    content = file.read()\n",
    "                    data.append([content, sentiment])\n",
    "        else:\n",
    "            print(f\"La carpeta {sentiment_dir} no existe.\")\n",
    "    return pd.DataFrame(data, columns=['content', 'sentiment'])\n",
    "\n",
    "# Ajusta estas rutas según la ubicación real de tus carpetas\n",
    "train_directory = r'D:\\Unal\\Analitica Descriptiva\\Labs\\2024-2-LAB-04-ingestion-de-texto-en-directorios-DanielOrozco09\\files\\input\\train'\n",
    "test_directory = r'D:\\Unal\\Analitica Descriptiva\\Labs\\2024-2-LAB-04-ingestion-de-texto-en-directorios-DanielOrozco09\\files\\input\\test'\n",
    "\n",
    "# Crear el DataFrame para la carpeta train\n",
    "train_df = create_dataframe_from_directory(train_directory)\n",
    "\n",
    "# Crear el DataFrame para la carpeta test\n",
    "test_df = create_dataframe_from_directory(test_directory)\n",
    "\n",
    "\n",
    "test_df = test_df.rename(columns = {'content': 'phrase', 'sentiment': 'target'})\n",
    "train_df = train_df.rename(columns = {'content': 'phrase', 'sentiment': 'target'})\n",
    "\n",
    "\n",
    "# Exportar los DataFrames a archivos CSV en el directorio actual\n",
    "train_df.to_csv(r'D:\\Unal\\Analitica Descriptiva\\Labs\\2024-2-LAB-04-ingestion-de-texto-en-directorios-DanielOrozco09\\files\\output\\train_dataset.csv', index=False)\n",
    "test_df.to_csv(r'D:\\Unal\\Analitica Descriptiva\\Labs\\2024-2-LAB-04-ingestion-de-texto-en-directorios-DanielOrozco09\\files\\output\\test_dataset.csv', index=False)\n",
    "\n",
    "print(\"Los DataFrames se han exportado a archivos CSV: 'train_data.csv' y 'test_data.csv'.\")"
   ]
  },
  {
   "cell_type": "code",
   "execution_count": 9,
   "metadata": {},
   "outputs": [
    {
     "name": "stdout",
     "output_type": "stream",
     "text": [
      "d:\\Unal\\Analitica Descriptiva\\Labs\\2024-2-LAB-04-ingestion-de-texto-en-directorios-DanielOrozco09\\homework\n"
     ]
    }
   ],
   "source": [
    "import os\n",
    "print(os.getcwd())\n"
   ]
  }
 ],
 "metadata": {
  "kernelspec": {
   "display_name": ".venv",
   "language": "python",
   "name": "python3"
  },
  "language_info": {
   "codemirror_mode": {
    "name": "ipython",
    "version": 3
   },
   "file_extension": ".py",
   "mimetype": "text/x-python",
   "name": "python",
   "nbconvert_exporter": "python",
   "pygments_lexer": "ipython3",
   "version": "3.12.8"
  }
 },
 "nbformat": 4,
 "nbformat_minor": 2
}
